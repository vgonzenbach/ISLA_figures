{
 "cells": [
  {
   "cell_type": "code",
   "execution_count": 2,
   "metadata": {},
   "outputs": [
    {
     "ename": "ImportError",
     "evalue": "No module named surfer",
     "output_type": "error",
     "traceback": [
      "\u001b[0;31m---------------------------------------------------------------------------\u001b[0m",
      "\u001b[0;31mImportError\u001b[0m                               Traceback (most recent call last)",
      "\u001b[0;32m<ipython-input-2-a04ffb1aae18>\u001b[0m in \u001b[0;36m<module>\u001b[0;34m()\u001b[0m\n\u001b[1;32m      1\u001b[0m \u001b[0;32mimport\u001b[0m \u001b[0mos\u001b[0m\u001b[0;34m\u001b[0m\u001b[0m\n\u001b[1;32m      2\u001b[0m \u001b[0;32mimport\u001b[0m \u001b[0msubprocess\u001b[0m\u001b[0;34m\u001b[0m\u001b[0m\n\u001b[0;32m----> 3\u001b[0;31m \u001b[0;32mfrom\u001b[0m \u001b[0msurfer\u001b[0m \u001b[0;32mimport\u001b[0m \u001b[0mBrain\u001b[0m\u001b[0;34m,\u001b[0m \u001b[0mproject_volume_data\u001b[0m\u001b[0;34m\u001b[0m\u001b[0m\n\u001b[0m\u001b[1;32m      4\u001b[0m \u001b[0;32mfrom\u001b[0m \u001b[0mmayavi\u001b[0m \u001b[0;32mimport\u001b[0m \u001b[0mmlab\u001b[0m\u001b[0;34m\u001b[0m\u001b[0m\n\u001b[1;32m      5\u001b[0m \u001b[0;34m\u001b[0m\u001b[0m\n",
      "\u001b[0;31mImportError\u001b[0m: No module named surfer"
     ]
    }
   ],
   "source": [
    "import os\n",
    "import subprocess\n",
    "from surfer import Brain, project_volume_data\n",
    "from mayavi import mlab\n",
    "\n",
    "mlab.init_notebook(backend='png')"
   ]
  },
  {
   "cell_type": "code",
   "execution_count": null,
   "metadata": {},
   "outputs": [],
   "source": [
    "# Set environment variables\n",
    "os.environ['FREESURFER_HOME'] = '/Applications/freesurfer/7.1.1'\n",
    "os.environ['SUBJECTS_DIR'] = os.path.join(os.environ['FREESURFER_HOME'], 'subjects')"
   ]
  },
  {
   "cell_type": "code",
   "execution_count": null,
   "metadata": {},
   "outputs": [],
   "source": [
    "brain = Brain(subject_id = \"fsaverage5\", hemi = \"split\", surf = \"inflated\", title = 'Average CBF (thr10)',\n",
    "              views=['med', 'lat'], background=\"white\")"
   ]
  },
  {
   "cell_type": "markdown",
   "metadata": {},
   "source": [
    "Note: mri_file registered with following script\n",
    "```\n",
    "export TRANSFORM_DIR=$PWD/data/transforms \n",
    "export CBF_PNC=$PWD/data/mri/avgCBF_thr10.nii.gz\n",
    "export CBF_MNI=$PWD/data/mri/reg/avgCBF_thr10_MNI.nii.gz # output path\n",
    "\n",
    "antsApplyTransforms -i $CBF_PNC -o $PWD/data/mri/reg/avgCBF_thr10_MNI.nii.gz -t $TRANSFORM_DIR/PNC-MNI_0warp.nii.gz -t $TRANSFORM_DIR/PNC-MNI_1Affine.mat \\\n",
    "    -r $PWD/data/templates/MNI-2x2x2.nii.gz -d 3 -e 3 -n LanczosWindowedSinc\n",
    "\n",
    "```\n",
    "\n",
    "where transform"
   ]
  },
  {
   "cell_type": "code",
   "execution_count": null,
   "metadata": {},
   "outputs": [],
   "source": [
    "mri_file = os.path.join(os.getcwd(), 'data/mri/reg/avgCBF_thr10_MNI.nii.gz')\n",
    "reg_file = os.path.join(os.environ[\"FREESURFER_HOME\"], \"average/mni152.register.dat\")\n",
    "\n",
    "surf_data_lh = project_volume_data(mri_file, \"lh\", reg_file, smooth_fwhm=3)\n",
    "surf_data_rh = project_volume_data(mri_file, \"rh\", reg_file, smooth_fwhm=3)\n"
   ]
  },
  {
   "cell_type": "code",
   "execution_count": null,
   "metadata": {},
   "outputs": [],
   "source": [
    "brain.add_overlay(surf_data_lh, min=0, max=90, name=\"cbf_lh\", hemi='lh')\n",
    "brain.add_overlay(surf_data_rh, min=0, max=90, name=\"cbf_rh\", hemi='rh')"
   ]
  },
  {
   "cell_type": "code",
   "execution_count": null,
   "metadata": {},
   "outputs": [],
   "source": [
    "brain.save_image('tmp/brain_hemi-split_py2.7.png')"
   ]
  }
 ],
 "metadata": {
  "kernelspec": {
   "display_name": "Python [conda env:py2]",
   "language": "python",
   "name": "conda-env-py2-py"
  },
  "language_info": {
   "codemirror_mode": {
    "name": "ipython",
    "version": 2
   },
   "file_extension": ".py",
   "mimetype": "text/x-python",
   "name": "python",
   "nbconvert_exporter": "python",
   "pygments_lexer": "ipython2",
   "version": "2.7.15"
  }
 },
 "nbformat": 4,
 "nbformat_minor": 4
}
