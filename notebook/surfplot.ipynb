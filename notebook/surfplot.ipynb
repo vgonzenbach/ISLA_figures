{
 "cells": [
  {
   "cell_type": "code",
   "execution_count": 1,
   "metadata": {},
   "outputs": [
    {
     "output_type": "stream",
     "name": "stdout",
     "text": [
      "Notebook initialized with png backend.\n"
     ]
    }
   ],
   "source": [
    "import os\n",
    "from surfer import Brain, project_volume_data\n",
    "from mayavi import mlab\n",
    "import matplotlib.pyplot as plt\n",
    "\n",
    "mlab.init_notebook(backend='png')"
   ]
  },
  {
   "cell_type": "code",
   "execution_count": 2,
   "metadata": {},
   "outputs": [],
   "source": [
    "mri_file = os.path.join(os.getcwd(), \"../data/mri/reg/avgCBF_thr10_MNI.nii.gz\")\n",
    "reg_file = os.path.join(os.environ[\"FREESURFER_HOME\"], \"average/mni152.register.dat\")\n",
    "\n",
    "SIZE = 1200\n",
    "brain_lh = Brain(subject_id = \"fsaverage5\", hemi = \"lh\", surf = \"inflated\", title = 'Average CBF (thr10)',\n",
    "              views=['med', 'lat'], background=\"white\", size=SIZE)\n",
    "brain_rh = Brain(subject_id = \"fsaverage5\", hemi = \"rh\", surf = \"inflated\", title = 'Average CBF (thr10)',\n",
    "              views=['lat', 'med'], background=\"white\", size=SIZE)"
   ]
  },
  {
   "cell_type": "code",
   "execution_count": 3,
   "metadata": {},
   "outputs": [],
   "source": [
    "\n",
    "surf_data_lh = project_volume_data(mri_file, \"lh\", reg_file, smooth_fwhm=3)\n",
    "surf_data_rh = project_volume_data(mri_file, \"rh\", reg_file, smooth_fwhm=3)"
   ]
  },
  {
   "cell_type": "code",
   "execution_count": 4,
   "metadata": {},
   "outputs": [],
   "source": [
    "brain_lh.add_overlay(surf_data_lh, min=0, max=90, name=\"cbf_lh\", hemi='lh', sign=\"pos\")\n",
    "brain_rh.add_overlay(surf_data_rh, min=0, max=90, name=\"cbf_rh\", hemi='rh', sign=\"pos\")"
   ]
  },
  {
   "cell_type": "code",
   "execution_count": 5,
   "metadata": {},
   "outputs": [
    {
     "output_type": "error",
     "ename": "SyntaxError",
     "evalue": "positional argument follows keyword argument (<ipython-input-5-b68b3ba0be7d>, line 6)",
     "traceback": [
      "\u001b[0;36m  File \u001b[0;32m\"<ipython-input-5-b68b3ba0be7d>\"\u001b[0;36m, line \u001b[0;32m6\u001b[0m\n\u001b[0;31m    brain_rh.save_imageset(prefix = \"tmp/rh_cbf\", [\"lat\", \"med\"])\u001b[0m\n\u001b[0m                                                 ^\u001b[0m\n\u001b[0;31mSyntaxError\u001b[0m\u001b[0;31m:\u001b[0m positional argument follows keyword argument\n"
     ]
    }
   ],
   "source": [
    "#brain_lh.hide_colorbar(row=-1, col=-1)\n",
    "#brain_lh.hide_colorbar(row=-2, col=-2)\n",
    "brain_lh.save_imageset(prefix=\"tmp/lh_cbf\", views=[\"med\", \"lat\"], colorbar=None)\n",
    "\n",
    "#brain_rh.hide_colorbar(row=-2, col=-2)\n",
    "brain_rh.save_imageset(prefix = \"tmp/rh_cbf\", [\"lat\", \"med\"])"
   ]
  },
  {
   "cell_type": "code",
   "execution_count": 14,
   "metadata": {},
   "outputs": [],
   "source": [
    "from PIL import Image\n",
    "\n",
    "im1 = Image.open(os.path.join(os.getcwd(),'tmp/lh_cbf_med.png'))\n",
    "im2 = Image.open(os.path.join(os.getcwd(),'tmp/lh_cbf_lat.png'))\n",
    "im3 = Image.open(os.path.join(os.getcwd(),'tmp/rh_cbf_lat.png'))\n",
    "im4 = Image.open(os.path.join(os.getcwd(),'tmp/rh_cbf_med.png'))\n",
    "\n",
    "def get_concat_h(im1, im2):\n",
    "    dst = Image.new('RGB', (im1.width * 4, im1.height))\n",
    "    dst.paste(im1, (0, 0))\n",
    "    dst.paste(im2, (im1.width, 0))\n",
    "    dst.paste(im3, (im1.width*2, 0))\n",
    "    dst.paste(im4, (im1.width*3, 0))\n",
    "    return dst\n",
    "\n",
    "#def concat_grid\n",
    "\n",
    "get_concat_h(im1, im2).save('tmp/concat.png')"
   ]
  },
  {
   "cell_type": "code",
   "execution_count": 15,
   "metadata": {},
   "outputs": [
    {
     "output_type": "execute_result",
     "data": {
      "text/plain": [
       "'/Users/vgonzenb/PennSIVE/ISLA/notebook'"
      ]
     },
     "metadata": {},
     "execution_count": 15
    }
   ],
   "source": [
    "os.getcwd()"
   ]
  },
  {
   "cell_type": "code",
   "execution_count": 16,
   "metadata": {},
   "outputs": [],
   "source": [
    "#brain.save_image('../tmp/surf_avgCBF_thr10.png')"
   ]
  },
  {
   "cell_type": "code",
   "execution_count": null,
   "metadata": {},
   "outputs": [],
   "source": []
  }
 ],
 "metadata": {
  "kernelspec": {
   "display_name": "fmri-rep",
   "language": "python",
   "name": "fmri-rep"
  },
  "language_info": {
   "codemirror_mode": {
    "name": "ipython",
    "version": 2
   },
   "file_extension": ".py",
   "mimetype": "text/x-python",
   "name": "python",
   "nbconvert_exporter": "python",
   "pygments_lexer": "ipython2",
   "version": "3.7.6-final"
  }
 },
 "nbformat": 4,
 "nbformat_minor": 4
}