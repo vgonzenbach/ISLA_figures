{
 "cells": [
  {
   "cell_type": "code",
   "execution_count": 1,
   "metadata": {},
   "outputs": [
    {
     "output_type": "stream",
     "name": "stdout",
     "text": [
      "Notebook initialized with png backend.\n"
     ]
    }
   ],
   "source": [
    "import os\n",
    "from surfer import Brain, project_volume_data\n",
    "from mayavi import mlab\n",
    "import matplotlib.pyplot as plt\n",
    "from PIL import Image, ImageFont, ImageDraw\n",
    "\n",
    "mlab.init_notebook(backend='png')"
   ]
  },
  {
   "cell_type": "code",
   "execution_count": 2,
   "metadata": {},
   "outputs": [],
   "source": [
    "def proj_surf(file_name):\n",
    "    ROOT_DIR = \"/Users/vgonzenb/PennSIVE/ISLA/\"\n",
    "    MRI_PATH = os.path.join(\"data\", \"mri\", \"reg\")\n",
    "\n",
    "    mri_file = os.path.join(ROOT_DIR + MRI_PATH, file_name)\n",
    "    reg_file = os.path.join(os.environ[\"FREESURFER_HOME\"], \"average/mni152.register.dat\")\n",
    "    \n",
    "    \"\"\"\n",
    "    Project volume to surface\n",
    "    \"\"\"\n",
    "    brain = Brain(subject_id = \"fsaverage5\", hemi = \"split\", surf = \"inflated\",\n",
    "              views=['med', 'lat'], background=\"white\", size=1200)\n",
    "\n",
    "    surf_data_lh = project_volume_data(mri_file, \"lh\", reg_file, smooth_fwhm=3)\n",
    "    surf_data_rh = project_volume_data(mri_file, \"rh\", reg_file, smooth_fwhm=3)\n",
    "\n",
    "    brain.add_overlay(surf_data_lh, min=0, max=90, name=\"cbf_lh\", hemi='lh', sign=\"pos\")\n",
    "    brain.add_overlay(surf_data_rh, min=0, max=90, name=\"cbf_rh\", hemi='rh', sign=\"pos\")\n",
    "\n",
    "    brain.save_imageset(prefix=\"tmp/rh\", views=[\"med\", \"lat\"], colorbar=0)\n",
    "    brain.save_imageset(prefix=\"tmp/lh\", views=[\"med\", \"lat\"], row=-2, col=-2, colorbar=None)\n",
    "\n",
    "    \"\"\"\n",
    "    Contenate surface images horizontally\n",
    "    \"\"\"\n",
    "    im1 = Image.open(os.path.join(os.getcwd(), 'tmp/lh_med.png'))\n",
    "    im2 = Image.open(os.path.join(os.getcwd(), 'tmp/lh_lat.png'))\n",
    "    im3 = Image.open(os.path.join(os.getcwd(), 'tmp/rh_lat.png'))\n",
    "    im4 = Image.open(os.path.join(os.getcwd(), 'tmp/rh_med.png'))\n",
    "    \n",
    "    img = Image.new('RGB', (im1.width * 4, im1.height))\n",
    "    img.paste(im1, (0, 0))\n",
    "    img.paste(im2, (im1.width, 0))\n",
    "    img.paste(im3, (im1.width*2, 0))\n",
    "    img.paste(im4, (im1.width*3, 0))\n",
    "    \n",
    "    \"\"\"\n",
    "    Add text to each image\n",
    "    \"\"\"\n",
    "\n",
    "    draw = ImageDraw.Draw(img)\n",
    "    # font = ImageFont.truetype(<font-file>, <font-size>)\n",
    "    font = ImageFont.truetype(\"/Library/Fonts/HelveticaNeue.ttc\", 50)\n",
    "    font_BOLD = ImageFont.truetype(\"/Library/Fonts/HelveticaNeue.ttc\", 100)\n",
    "\n",
    "    # draw.text((x, y),\"Sample Text\",(r,g,b))\n",
    "    draw.text((im1.width-25, im1.height-525), \"Left\", (0,0,0), font=font)\n",
    "    draw.text((im1.width*3-70, im1.height-525), \"Right\", (0,0,0), font=font)\n",
    "\n",
    "    clean_filename = file_name.replace('.nii.gz', '')\n",
    "    img.save(f'tmp/pub_{clean_filename}.png')"
   ]
  },
  {
   "cell_type": "code",
   "execution_count": 6,
   "metadata": {},
   "outputs": [],
   "source": [
    "proj_surf(\"avgAhlgren_cbf_size3_thr10.nii.gz\")"
   ]
  },
  {
   "cell_type": "code",
   "execution_count": null,
   "metadata": {},
   "outputs": [],
   "source": [
    "ROOT_DIR = \"/Users/vgonzenb/PennSIVE/ISLA/\"\n",
    "MRI_PATH = os.path.join(\"data\", \"mri\")\n",
    "\n",
    "images = [\"avgAhlgren_cbf_size2_thr20.nii.gz\", \"avgISLA_cbf_size2_thr20.nii.gz\",\n",
    "          \"avgAhlgren_cbf_size3_thr10.nii.gz\", \"avgISLA_cbf_size3_thr10.nii.gz\",\n",
    "          \"avgAhlgren_cbf_size3_thr20.nii.gz\", \"avgISLA_cbf_size3_thr20.nii.gz\",\n",
    "          \"avgAhlgren_cbf_size4_thr10.nii.gz\", \"avgISLA_cbf_size4_thr10.nii.gz\",\n",
    "          \"avgAhlgren_cbf_size4_thr20.nii.gz\", \"avgISLA_cbf_size4_thr20.nii.gz\",\n",
    "          \"avgCBF_thr10.nii.gz\",               \"avgCBF_thr20.nii.gz\"]\n",
    "\n",
    "for image in image:"
   ]
  },
  {
   "cell_type": "code",
   "execution_count": 40,
   "metadata": {},
   "outputs": [
    {
     "output_type": "execute_result",
     "data": {
      "text/plain": [
       "['tmp/lh_cbf_med.png', 'tmp/lh_cbf_lat.png']"
      ]
     },
     "metadata": {},
     "execution_count": 40
    }
   ],
   "source": [
    "ROOT_DIR = \"/Users/vgonzenb/PennSIVE/ISLA/\"\n",
    "MRI_PATH = os.path.join(\"data\", \"mri\")\n",
    "mri_file = ROOT_DIR + \"data/mri/reg/avgCBF_thr10_MNI.nii.gz\"\n",
    "reg_file = os.path.join(os.environ[\"FREESURFER_HOME\"], \"average/mni152.register.dat\")\n",
    "\n",
    "brain = Brain(subject_id = \"fsaverage5\", hemi = \"split\", surf = \"inflated\", title = 'Average CBF (thr10)',\n",
    "              views=['med', 'lat'], background=\"white\", size=1200)\n",
    "\n",
    "surf_data_lh = project_volume_data(mri_file, \"lh\", reg_file, smooth_fwhm=3)\n",
    "surf_data_rh = project_volume_data(mri_file, \"rh\", reg_file, smooth_fwhm=3)\n",
    "\n",
    "brain.add_overlay(surf_data_lh, min=0, max=90, name=\"cbf_lh\", hemi='lh', sign=\"pos\")\n",
    "brain.add_overlay(surf_data_rh, min=0, max=90, name=\"cbf_rh\", hemi='rh', sign=\"pos\")\n",
    "\n",
    "brain.save_imageset(prefix=\"tmp/rh_\", views=[\"med\", \"lat\"], colorbar=0)\n",
    "brain.save_imageset(prefix=\"tmp/lh_\", views=[\"med\", \"lat\"], row=-2, col=-2, colorbar=None)"
   ]
  },
  {
   "cell_type": "code",
   "execution_count": 41,
   "metadata": {},
   "outputs": [],
   "source": [
    "from PIL import Image, ImageFont, ImageDraw\n",
    "\n",
    "im1 = Image.open(os.path.join(os.getcwd(),'tmp/lh_med.png'))\n",
    "im2 = Image.open(os.path.join(os.getcwd(),'tmp/lh_lat.png'))\n",
    "im3 = Image.open(os.path.join(os.getcwd(),'tmp/rh_lat.png'))\n",
    "im4 = Image.open(os.path.join(os.getcwd(),'tmp/rh_med.png'))\n",
    "\n",
    "def get_concat_h(im1, im2):\n",
    "    dst = Image.new('RGB', (im1.width * 4, im1.height))\n",
    "    dst.paste(im1, (0, 0))\n",
    "    dst.paste(im2, (im1.width, 0))\n",
    "    dst.paste(im3, (im1.width*2, 0))\n",
    "    dst.paste(im4, (im1.width*3, 0))\n",
    "    return dst\n",
    "\n",
    "#def concat_grid\n",
    "\n",
    "ret = get_concat_h(im1, im2).save('tmp/concat.png')\n"
   ]
  },
  {
   "cell_type": "code",
   "execution_count": 49,
   "metadata": {},
   "outputs": [],
   "source": [
    "from PIL import ImageFont\n",
    "from PIL import ImageDraw \n",
    "\n",
    "img = Image.open(\"tmp/concat.png\")\n",
    "draw = ImageDraw.Draw(img)\n",
    "# font = ImageFont.truetype(<font-file>, <font-size>)\n",
    "font = ImageFont.truetype(\"/Library/Fonts/HelveticaNeue.ttc\", 50)\n",
    "font_BOLD = ImageFont.truetype(\"/Library/Fonts/HelveticaNeue.ttc\", 100)\n",
    "\n",
    "# draw.text((x, y),\"Sample Text\",(r,g,b))\n",
    "draw.text((im1.width-25, im1.height-525), \"Left\", (0,0,0), font=font)\n",
    "draw.text((im1.width*3-70, im1.height-525), \"Right\", (0,0,0), font=font)\n",
    "img.save('tmp/concat_text.png')"
   ]
  },
  {
   "source": [
    "Unused Below"
   ],
   "cell_type": "markdown",
   "metadata": {}
  },
  {
   "cell_type": "code",
   "execution_count": 19,
   "metadata": {},
   "outputs": [
    {
     "output_type": "execute_result",
     "data": {
      "text/plain": [
       "['tmp/rh_cbf_lat.png', 'tmp/rh_cbf_med.png']"
      ]
     },
     "metadata": {},
     "execution_count": 19
    }
   ],
   "source": [
    "mri_file = os.path.join(os.getcwd(), \"../data/mri/reg/avgCBF_thr10_MNI.nii.gz\")\n",
    "reg_file = os.path.join(os.environ[\"FREESURFER_HOME\"], \"average/mni152.register.dat\")\n",
    "\n",
    "SIZE = 1200\n",
    "brain_lh = Brain(subject_id = \"fsaverage5\", hemi = \"both\", surf = \"inflated\", title = 'Average CBF (thr10)',\n",
    "              views=['med', 'lat'], background=\"white\", size=SIZE)\n",
    "brain_rh = Brain(subject_id = \"fsaverage5\", hemi = \"both\", surf = \"inflated\", title = 'Average CBF (thr10)',\n",
    "              views=['lat', 'med'], background=\"white\", size=SIZE)\n",
    "\n",
    "surf_data_lh = project_volume_data(mri_file, \"lh\", reg_file, smooth_fwhm=3)\n",
    "surf_data_rh = project_volume_data(mri_file, \"rh\", reg_file, smooth_fwhm=3)\n",
    "\n",
    "brain_lh.add_overlay(surf_data_lh, min=0, max=90, name=\"cbf_lh\", hemi='lh', sign=\"pos\")\n",
    "brain_rh.add_overlay(surf_data_rh, min=0, max=90, name=\"cbf_rh\", hemi='rh', sign=\"pos\")\n",
    "\n",
    "brain_lh.save_imageset(prefix=\"tmp/lh_cbf\", views=[\"med\", \"lat\"], colorbar=None)\n",
    "brain_rh.save_imageset(prefix=\"tmp/rh_cbf\", views=[\"lat\", \"med\"])"
   ]
  },
  {
   "cell_type": "code",
   "execution_count": null,
   "metadata": {},
   "outputs": [],
   "source": []
  }
 ],
 "metadata": {
  "kernelspec": {
   "display_name": "fmri-rep",
   "language": "python",
   "name": "fmri-rep"
  },
  "language_info": {
   "codemirror_mode": {
    "name": "ipython",
    "version": 2
   },
   "file_extension": ".py",
   "mimetype": "text/x-python",
   "name": "python",
   "nbconvert_exporter": "python",
   "pygments_lexer": "ipython2",
   "version": "3.7.6-final"
  }
 },
 "nbformat": 4,
 "nbformat_minor": 4
}