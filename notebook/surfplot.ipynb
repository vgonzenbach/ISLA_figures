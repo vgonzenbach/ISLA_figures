{
 "cells": [
  {
   "cell_type": "code",
   "execution_count": 1,
   "metadata": {},
   "outputs": [
    {
     "name": "stdout",
     "output_type": "stream",
     "text": [
      "Notebook initialized with png backend.\n"
     ]
    }
   ],
   "source": [
    "import os\n",
    "from surfer import Brain, project_volume_data\n",
    "from mayavi import mlab\n",
    "import matplotlib.pyplot as plt\n",
    "from PIL import Image, ImageFont, ImageDraw\n",
    "\n",
    "mlab.init_notebook(backend='png')"
   ]
  },
  {
   "cell_type": "code",
   "execution_count": 4,
   "metadata": {},
   "outputs": [],
   "source": [
    "def proj_surf(file_name, colorbar = None):\n",
    "    ROOT_DIR = \"/Users/vgonzenb/PennSIVE/ISLA/\"\n",
    "    MRI_PATH = os.path.join(\"data\", \"mri\", \"reg\")\n",
    "\n",
    "    mri_file = os.path.join(ROOT_DIR + MRI_PATH, file_name)\n",
    "    reg_file = os.path.join(os.environ[\"FREESURFER_HOME\"], \"average/mni152.register.dat\")\n",
    "    \n",
    "    \"\"\"\n",
    "    Project volume to surface\n",
    "    \"\"\"\n",
    "    brain = Brain(subject_id = \"fsaverage5\", hemi = \"split\", surf = \"inflated\",\n",
    "              views=['med', 'lat'], background=\"white\", size=1200)\n",
    "\n",
    "    surf_data_lh = project_volume_data(mri_file, \"lh\", reg_file, smooth_fwhm=3)\n",
    "    surf_data_rh = project_volume_data(mri_file, \"rh\", reg_file, smooth_fwhm=3)\n",
    "\n",
    "    brain.add_overlay(surf_data_lh, min=0, max=90, name=\"cbf_lh\", hemi='lh', sign=\"pos\")\n",
    "    brain.add_overlay(surf_data_rh, min=0, max=90, name=\"cbf_rh\", hemi='rh', sign=\"pos\")\n",
    "\n",
    "    brain.save_imageset(prefix=\"tmp/rh\", views=[\"med\", \"lat\"], colorbar=colorbar)\n",
    "    brain.save_imageset(prefix=\"tmp/lh\", views=[\"med\", \"lat\"], row=-2, col=-2, colorbar=None)\n",
    "\n",
    "    \"\"\"\n",
    "    Contenate surface images horizontally\n",
    "    \"\"\"\n",
    "    im1 = Image.open(os.path.join(os.getcwd(), 'tmp/lh_med.png'))\n",
    "    im2 = Image.open(os.path.join(os.getcwd(), 'tmp/lh_lat.png'))\n",
    "    im3 = Image.open(os.path.join(os.getcwd(), 'tmp/rh_lat.png'))\n",
    "    im4 = Image.open(os.path.join(os.getcwd(), 'tmp/rh_med.png'))\n",
    "    \n",
    "    img = Image.new('RGB', (im1.width * 4, im1.height))\n",
    "    img.paste(im1, (0, 0))\n",
    "    img.paste(im2, (im1.width, 0))\n",
    "    img.paste(im3, (im1.width*2, 0))\n",
    "    img.paste(im4, (im1.width*3, 0))\n",
    "    \n",
    "    \"\"\"\n",
    "    Add text to each image\n",
    "    \"\"\"\n",
    "\n",
    "    draw = ImageDraw.Draw(img)\n",
    "    # font = ImageFont.truetype(<font-file>, <font-size>)\n",
    "    font = ImageFont.truetype(\"/Library/Fonts/HelveticaNeue.ttc\", 50)\n",
    "    font_BOLD = ImageFont.truetype(\"/Library/Fonts/HelveticaNeue.ttc\", 100)\n",
    "\n",
    "    # draw.text((x, y),\"Sample Text\",(r,g,b))\n",
    "    draw.text((im1.width-25, im1.height-525), \"Left\", (0,0,0), font=font)\n",
    "    draw.text((im1.width*3-70, im1.height-525), \"Right\", (0,0,0), font=font)\n",
    "\n",
    "    clean_filename = file_name.replace('.nii.gz', '')\n",
    "    img.save(f'tmp/pub_{clean_filename}.png')\n",
    "    print(f\"Image saved on 'tmp/pub_{clean_filename}.png\")\n",
    "    return(None)"
   ]
  },
  {
   "cell_type": "code",
   "execution_count": 5,
   "metadata": {},
   "outputs": [
    {
     "name": "stdout",
     "output_type": "stream",
     "text": [
      "Image saved on 'tmp/pub_avgAhlgren_cbf_size3_thr10.png\n",
      "Image saved on 'tmp/pub_avgISLA_cbf_size3_thr10.png\n",
      "Image saved on 'tmp/pub_avgCBF_thr10.png\n"
     ]
    }
   ],
   "source": [
    "proj_surf(\"avgAhlgren_cbf_size3_thr10.nii.gz\")\n",
    "proj_surf(\"avgISLA_cbf_size3_thr10.nii.gz\")\n",
    "proj_surf(\"avgCBF_thr10.nii.gz\")"
   ]
  },
  {
   "cell_type": "markdown",
   "metadata": {},
   "source": [
    "Unused Below"
   ]
  }
 ],
 "metadata": {
  "kernelspec": {
   "display_name": "Python 3.7.10 ('isla')",
   "language": "python",
   "name": "python3"
  },
  "language_info": {
   "codemirror_mode": {
    "name": "ipython",
    "version": 3
   },
   "file_extension": ".py",
   "mimetype": "text/x-python",
   "name": "python",
   "nbconvert_exporter": "python",
   "pygments_lexer": "ipython3",
   "version": "3.7.10"
  },
  "vscode": {
   "interpreter": {
    "hash": "cddf4120ee9e7265ce3f35999da8f7b6a01ec726ed3d2dfd193c232db56e2337"
   }
  }
 },
 "nbformat": 4,
 "nbformat_minor": 4
}
